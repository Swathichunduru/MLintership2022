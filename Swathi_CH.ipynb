{
  "nbformat": 4,
  "nbformat_minor": 0,
  "metadata": {
    "colab": {
      "name": "Swathi .CH",
      "provenance": []
    },
    "kernelspec": {
      "name": "python3",
      "display_name": "Python 3"
    },
    "language_info": {
      "name": "python"
    }
  },
  "cells": [
    {
      "cell_type": "code",
      "execution_count": 1,
      "metadata": {
        "colab": {
          "base_uri": "https://localhost:8080/"
        },
        "id": "9VwkiX1BFHF4",
        "outputId": "f8103a69-d594-415b-d518-58032cfaafd0"
      },
      "outputs": [
        {
          "output_type": "stream",
          "name": "stdout",
          "text": [
            "Enter positive number:6\n",
            "720\n"
          ]
        }
      ],
      "source": [
        "#question1\n",
        "def factorial(n):\n",
        "  fact=1\n",
        "  for i in range(1,n+1):\n",
        "    fact=fact*i\n",
        "  return fact\n",
        "n=int(input(\"Enter positive number:\"))\n",
        "f=factorial(n)\n",
        "print(f)"
      ]
    },
    {
      "cell_type": "code",
      "source": [
        "#question2\n",
        "relation={\"Darth\":\"father\",\"Leia\":\"sister\",\"Han\":\"brother in law\",\"R2D2\":\"droid\"}\n",
        "for i in relation.values():\n",
        "  print(\"Luke,Iam your\",i)"
      ],
      "metadata": {
        "colab": {
          "base_uri": "https://localhost:8080/"
        },
        "id": "_lEvEcwcFeO_",
        "outputId": "812f8eb3-975b-4e40-e91f-0adf2f5c021c"
      },
      "execution_count": 2,
      "outputs": [
        {
          "output_type": "stream",
          "name": "stdout",
          "text": [
            "Luke,Iam your father\n",
            "Luke,Iam your sister\n",
            "Luke,Iam your brother in law\n",
            "Luke,Iam your droid\n"
          ]
        }
      ]
    },
    {
      "cell_type": "code",
      "source": [
        "#question3\n",
        "num = int(input(\"Enter a number:\"))\n",
        "count = 0\n",
        "\n",
        "while num != 0:\n",
        "  num //= 10\n",
        "  count += 1\n",
        "\n",
        "print(\"Number of digits:\" + str(count))\n"
      ],
      "metadata": {
        "colab": {
          "base_uri": "https://localhost:8080/"
        },
        "id": "hI6xpHjaFlSn",
        "outputId": "b0134ec4-fbd6-41c4-ca0d-12cf79d4a289"
      },
      "execution_count": 3,
      "outputs": [
        {
          "output_type": "stream",
          "name": "stdout",
          "text": [
            "Enter a number:4\n",
            "Number of digits:1\n"
          ]
        }
      ]
    },
    {
      "cell_type": "code",
      "source": [
        "#question4\n",
        "def total_factorial(num):\n",
        "  fact =1\n",
        "  while num > 0:\n",
        "    for item in range(1,num+1):\n",
        "      fact = fact * item\n",
        "    num = num-1\n",
        "  return fact\n",
        "\n",
        "result = total_factorial(5)\n",
        "print(result)\n"
      ],
      "metadata": {
        "colab": {
          "base_uri": "https://localhost:8080/"
        },
        "id": "UHt-sGLSFuhC",
        "outputId": "7344aa14-3d6c-4f9b-c5c9-8e44d24e00cb"
      },
      "execution_count": 4,
      "outputs": [
        {
          "output_type": "stream",
          "name": "stdout",
          "text": [
            "34560\n"
          ]
        }
      ]
    },
    {
      "cell_type": "code",
      "source": [
        "#question5\n",
        "list = [1,2,3]\n",
        "print(\"The original list is:\" + str(list))\n",
        "m = sum(map(lambda i:i*i,list))\n",
        "print(\"The sum of squares of list is :\" + str(m))"
      ],
      "metadata": {
        "colab": {
          "base_uri": "https://localhost:8080/"
        },
        "id": "IT86mZXiF17C",
        "outputId": "56e90b54-29f2-4ebf-e0db-42d82c3e123e"
      },
      "execution_count": 5,
      "outputs": [
        {
          "output_type": "stream",
          "name": "stdout",
          "text": [
            "The original list is:[1, 2, 3]\n",
            "The sum of squares of list is :14\n"
          ]
        }
      ]
    },
    {
      "cell_type": "code",
      "source": [
        "#question6\n",
        "number_1 = int(input('Enter your first number: '))\n",
        "number_2 = int(input('Enter your second number: '))\n",
        "operation = input('''\n",
        "Please enter an operation to do:\n",
        "+ for addition\n",
        "- for subtraction\n",
        "* for multiplication\n",
        "/ for division\n",
        "''')\n",
        "\n",
        "\n",
        "if operation == '+':\n",
        "    print('{} + {} = '.format(number_1, number_2))\n",
        "    print(number_1 + number_2)\n",
        "\n",
        "elif operation == '-':\n",
        "    print('{} - {} = '.format(number_1, number_2))\n",
        "    print(number_1 - number_2)\n",
        "\n",
        "elif operation == '*':\n",
        "    print('{} * {} = '.format(number_1, number_2))\n",
        "    print(number_1 * number_2)\n",
        "\n",
        "elif operation == '/':\n",
        "    print('{} / {} = '.format(number_1, number_2))\n",
        "    print(number_1 / number_2)\n",
        "\n",
        "else:\n",
        "    print('You have not typed a valid operator, please run the program again.')\n"
      ],
      "metadata": {
        "colab": {
          "base_uri": "https://localhost:8080/"
        },
        "id": "sqa7e5YIF9kv",
        "outputId": "fa66db4d-ed72-4ecb-91fa-693617fd4d00"
      },
      "execution_count": 7,
      "outputs": [
        {
          "output_type": "stream",
          "name": "stdout",
          "text": [
            "Enter your first number: 5\n",
            "Enter your second number: 5\n",
            "\n",
            "Please enter an operation to do:\n",
            "+ for addition\n",
            "- for subtraction\n",
            "* for multiplication\n",
            "/ for division\n",
            "+\n",
            "5 + 5 = \n",
            "10\n"
          ]
        }
      ]
    },
    {
      "cell_type": "code",
      "source": [
        "#question7\n",
        "n = int(input(\"Please enter number:\"))\n",
        "for i in range(0,n):\n",
        "    if(i%2!=0):\n",
        "        print(\"I WILL\")\n",
        "    else:\n",
        "        print(\"I CAN\")"
      ],
      "metadata": {
        "colab": {
          "base_uri": "https://localhost:8080/"
        },
        "id": "WgAMpHcGGOTb",
        "outputId": "33402478-4b80-4331-e162-a499d26f2532"
      },
      "execution_count": 8,
      "outputs": [
        {
          "output_type": "stream",
          "name": "stdout",
          "text": [
            "Please enter number:6\n",
            "I CAN\n",
            "I WILL\n",
            "I CAN\n",
            "I WILL\n",
            "I CAN\n",
            "I WILL\n"
          ]
        }
      ]
    },
    {
      "cell_type": "code",
      "source": [
        "#question9\n",
        "def areConsecutive(arr, n):\n",
        "     \n",
        "    for i in range (1,n):\n",
        "        if(arr[i]!=arr[i-1]+1):\n",
        "            return False;\n",
        "             \n",
        "    return True;   \n",
        "a = [4,2,3]\n",
        "b = [1,5,6]    \n",
        "arr = a+b\n",
        "n = len(arr)\n",
        "if(areConsecutive(arr, n) == True):\n",
        "    print(\"true i.e.,Array elements are consecutive \")\n",
        "else:\n",
        "    print(\"false i.e.,Array elements are not consecutive \")"
      ],
      "metadata": {
        "colab": {
          "base_uri": "https://localhost:8080/"
        },
        "id": "9US99BkcGVG8",
        "outputId": "6a33aa1d-e2a0-48b6-9282-d00ba419dcac"
      },
      "execution_count": 9,
      "outputs": [
        {
          "output_type": "stream",
          "name": "stdout",
          "text": [
            "false i.e.,Array elements are not consecutive \n"
          ]
        }
      ]
    },
    {
      "cell_type": "code",
      "source": [
        "#question10\n",
        "d={\"cost_price\":32.67,\"sell_price\":45.00}\n",
        "inventory=1200\n",
        "a=d.get(\"cost_price\")\n",
        "b=d.get(\"sell_price\")\n",
        "profit=(b-a)*inventory\n",
        "c=round(profit)\n",
        "print(c)"
      ],
      "metadata": {
        "colab": {
          "base_uri": "https://localhost:8080/"
        },
        "id": "C05EP1wQGekt",
        "outputId": "d9af2943-13b7-44d0-bfcb-15338d4ff64a"
      },
      "execution_count": 10,
      "outputs": [
        {
          "output_type": "stream",
          "name": "stdout",
          "text": [
            "14796\n"
          ]
        }
      ]
    }
  ]
}